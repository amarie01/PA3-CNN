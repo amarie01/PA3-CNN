{
 "cells": [
  {
   "cell_type": "code",
   "execution_count": 1,
   "metadata": {},
   "outputs": [],
   "source": [
    "from baseline_cnn import *\n",
    "from baseline_cnn import BasicCNN\n",
    "from cnn_model1 import Model1CNN\n",
    "from cnn_model2 import Model2CNN\n",
    "\n",
    "# Data utils and dataloader\n",
    "import torchvision\n",
    "from torchvision import transforms, utils\n",
    "from xray_dataloader import ChestXrayDataset, create_split_loaders\n",
    "\n",
    "import torch\n",
    "import torch.nn as nn\n",
    "import numpy as np\n",
    "import time"
   ]
  },
  {
   "cell_type": "code",
   "execution_count": 2,
   "metadata": {},
   "outputs": [],
   "source": [
    "def accuracy(predictions, labels):\n",
    "    return np.sum(predictions == labels) / float(labels.size)"
   ]
  },
  {
   "cell_type": "code",
   "execution_count": 3,
   "metadata": {},
   "outputs": [],
   "source": [
    "def precision(predictions, labels):\n",
    "    TP = np.sum(np.logical_and(predictions == labels, labels == 1))\n",
    "    FP = np.sum(np.logical_and(predictions != labels, predictions == 1))\n",
    "    return TP / float(FP + TP + 1)"
   ]
  },
  {
   "cell_type": "code",
   "execution_count": 4,
   "metadata": {},
   "outputs": [],
   "source": [
    "def recall(predictions, labels):\n",
    "    TP = np.sum(np.logical_and(predictions == labels, labels == 1))\n",
    "    FN = np.sum(np.logical_and(predictions != labels, predictions == 0))\n",
    "    return TP / float(FN + TP + 1)"
   ]
  },
  {
   "cell_type": "code",
   "execution_count": 5,
   "metadata": {},
   "outputs": [],
   "source": [
    "def BCR(predictions, labels):\n",
    "    return (precision(predictions, labels) + recall(predictions, labels)) / 2.0"
   ]
  },
  {
   "cell_type": "code",
   "execution_count": 6,
   "metadata": {},
   "outputs": [],
   "source": [
    "def accuracy_per_class(predictions, labels):\n",
    "    return np.sum(predictions == labels, axis=0) / float(labels.shape[0])"
   ]
  },
  {
   "cell_type": "code",
   "execution_count": 7,
   "metadata": {},
   "outputs": [],
   "source": [
    "def precision_per_class(predictions, labels):\n",
    "    TP = np.sum(np.logical_and(predictions == labels, labels == 1), axis=0)\n",
    "    FP = np.sum(np.logical_and(predictions != labels, predictions == 1), axis=0)\n",
    "    return TP / np.asfarray(FP + TP + 1)"
   ]
  },
  {
   "cell_type": "code",
   "execution_count": 8,
   "metadata": {},
   "outputs": [],
   "source": [
    "def recall_per_class(predictions, labels):\n",
    "    TP = np.sum(np.logical_and(predictions == labels, labels == 1), axis=0)\n",
    "    FN = np.sum(np.logical_and(predictions != labels, predictions == 0), axis=0)\n",
    "    return TP / np.asfarray(FN + TP + 1)"
   ]
  },
  {
   "cell_type": "code",
   "execution_count": 9,
   "metadata": {},
   "outputs": [],
   "source": [
    "def BCR_per_class(predictions, labels):\n",
    "    return (precision_per_class(predictions, labels) + recall_per_class(predictions, labels)) / 2.0"
   ]
  },
  {
   "cell_type": "code",
   "execution_count": 10,
   "metadata": {},
   "outputs": [],
   "source": [
    "def confusion_matrix(mtx, predictions, actuals): \n",
    "    for p,a in zip(predictions, actuals):\n",
    "        \n",
    "        for i in range(p.shape[0]):\n",
    "            # If TP, add 1 to diagonal\n",
    "            # Then discard the other outputs\n",
    "            if p[i] == 1 and a[i] == 1:\n",
    "                mtx[i][i] += 1\n",
    "                \n",
    "            elif p[i] == 1:\n",
    "                mtx[i] += a\n",
    "    \n",
    "    return mtx"
   ]
  },
  {
   "cell_type": "code",
   "execution_count": 11,
   "metadata": {},
   "outputs": [],
   "source": [
    "def print_scores(batch_start, batch_count, accuracies, precisions, recalls, BCRs, aggregate=True):\n",
    "    if aggregate:\n",
    "        acc = np.mean(accuracies[batch_start:])\n",
    "        pre = np.mean(precisions[batch_start:])\n",
    "        rec = np.mean(recalls[batch_start:])\n",
    "        bcr = np.mean(BCRs[batch_start:])\n",
    "    else:\n",
    "        acc = np.mean(accuracies[batch_start:], axis=0)\n",
    "        pre = np.mean(precisions[batch_start:], axis=0)\n",
    "        rec = np.mean(recalls[batch_start:], axis=0)\n",
    "        bcr = np.mean(BCRs[batch_start:], axis=0)\n",
    "            \n",
    "    # Print the loss averaged over the last N mini-batches    \n",
    "    print('Minibatch ' + str(batch_count) + ' accuracy: ' + str(acc))\n",
    "    print('Minibatch ' + str(batch_count) + ' precision: ' + str(pre))\n",
    "    print('Minibatch ' + str(batch_count) + ' recall: ' + str(rec))\n",
    "    print('Minibatch ' + str(batch_count) + ' bcr: ' + str(bcr))"
   ]
  },
  {
   "cell_type": "code",
   "execution_count": 12,
   "metadata": {},
   "outputs": [],
   "source": [
    "def train_model(run, model, model_name, num_epochs, train_loader, computing_device, optimizer, criterion):\n",
    "    # Track the loss across training\n",
    "    train_loss = []\n",
    "    valid_loss = []\n",
    "    train_accuracy = []\n",
    "    valid_accuracy = []\n",
    "    \n",
    "    start = time.time()\n",
    "    \n",
    "    # When to record results\n",
    "    N_training_loss = len(train_loader) // 4\n",
    "    N_minibatch_print = 50\n",
    "    \n",
    "    min_val_loss = 100    \n",
    "    \n",
    "    for epoch in range(num_epochs):\n",
    "        \n",
    "        # Training\n",
    "        minibatch_loss_for_print = 0.0\n",
    "        minibatch_loss_for_results = 0.0\n",
    "        minibatch_acc_for_results = 0.0\n",
    "        \n",
    "        for minibatch_count, (images, labels) in enumerate(train_loader, 0):\n",
    "\n",
    "            # Put the minibatch data in CUDA Tensors and run on the GPU if supported\n",
    "            images, labels = images.to(computing_device), labels.to(computing_device)\n",
    "\n",
    "            # Zero out the stored gradient (buffer) from the previous iteration\n",
    "            optimizer.zero_grad()\n",
    "\n",
    "            # Perform the forward pass through the network and compute the loss\n",
    "            outputs = model(images)\n",
    "            loss = criterion(outputs, labels)\n",
    "            \n",
    "            # Performs sigmoid on the output for when the criterion is BCEWithLogitsLogs\n",
    "            if isinstance(criterion, nn.BCEWithLogitsLoss):\n",
    "                outputs = torch.sigmoid(outputs)\n",
    "                \n",
    "            predicted = torch.round(outputs.data)\n",
    "            predicted = predicted.cpu().numpy()\n",
    "            labels = labels.cpu().numpy()\n",
    "            acc = accuracy(predicted, labels)\n",
    "\n",
    "            # Automagically compute the gradients and backpropagate the loss through the network\n",
    "            loss.backward()\n",
    "\n",
    "            # Update the weights\n",
    "            optimizer.step()\n",
    "\n",
    "            # Add this iteration's loss to the total minibatch loss\n",
    "            minibatch_loss_for_print += loss\n",
    "            minibatch_loss_for_results += loss\n",
    "            minibatch_acc_for_results += acc\n",
    "            \n",
    "            # Save the training loss every quarter of the training data\n",
    "            if (minibatch_count + 1) % N_training_loss == 0:\n",
    "                train_loss.append(minibatch_loss_for_results / N_training_loss)\n",
    "                minibatch_loss_for_results = 0.0\n",
    "                train_accuracy.append(minibatch_acc_for_results / N_training_loss)\n",
    "                minibatch_acc_for_results = 0.0\n",
    "\n",
    "            # Print the training loss every N_minibatches\n",
    "            if (minibatch_count + 1) % N_minibatch_print == 0:   \n",
    "                print('Run %d, Epoch %d, average minibatch %d loss: %.3f' %\n",
    "                    (run, epoch + 1, minibatch_count + 1, minibatch_loss_for_print / N_minibatch_print))\n",
    "                print(100 * minibatch_count/len(train_loader),\"% done, \" ,time.time() - start, \" Seconds elapsed\")\n",
    "                \n",
    "                minibatch_loss_for_print = 0.0\n",
    "                \n",
    "            #if len(train_accuracy) >= 2:\n",
    "                #break\n",
    "\n",
    "                \n",
    "        # Validation\n",
    "        val_loss = 0.0\n",
    "        val_acc = 0.0\n",
    "        early_stop_count = 0 \n",
    "        \n",
    "        # When to record results\n",
    "        N_valid_loss = len(val_loader) // 4\n",
    "        \n",
    "        with torch.no_grad():\n",
    "            for batch_count, (images, labels) in enumerate(val_loader, 0):\n",
    "                images, labels = images.to(computing_device), labels.to(computing_device)\n",
    "\n",
    "                optimizer.zero_grad()\n",
    "\n",
    "                outputs = model(images)\n",
    "                val_loss += criterion(outputs, labels)\n",
    "                \n",
    "                # Performs sigmoid on the output for when the criterion is BCEWithLogitsLogs\n",
    "                if isinstance(criterion, nn.BCEWithLogitsLoss):\n",
    "                    outputs = torch.sigmoid(outputs)\n",
    "                \n",
    "                predicted = torch.round(outputs.data)\n",
    "                predicted = predicted.cpu().numpy()\n",
    "                labels = labels.cpu().numpy()\n",
    "                val_acc += accuracy(predicted, labels)\n",
    "                \n",
    "                # Save the validation loss every quarter of the validation data\n",
    "                if (batch_count + 1) % N_valid_loss == 0:\n",
    "                    valid_loss.append(val_loss / N_valid_loss)\n",
    "                    val_loss = 0.0\n",
    "                    valid_accuracy.append(val_acc / N_valid_loss)\n",
    "                    val_acc = 0.0\n",
    "                    \n",
    "                #if len(valid_accuracy) >= 2:\n",
    "                    #break\n",
    "                \n",
    "\n",
    "            # Early stopping\n",
    "            '''  \n",
    "            if val_loss >= min_val_loss:\n",
    "                early_stop_count += 1\n",
    "                if early_stop_count == 2:\n",
    "                    break\n",
    "\n",
    "            else:\n",
    "                early_stop_count = 0\n",
    "                min_val_loss = val_loss\n",
    "            '''\n",
    "\n",
    "        print('Saving model')\n",
    "        torch.save(model, model_name + str(epoch) + '_kf.pt')\n",
    "        print(\"Finished\", epoch + 1, \"epochs of training\")\n",
    "        \n",
    "    print(\"Training complete after\", epoch + 1, \"epochs\")\n",
    "    \n",
    "    return train_loss, valid_loss, train_accuracy, valid_accuracy, time.time() - start"
   ]
  },
  {
   "cell_type": "code",
   "execution_count": 13,
   "metadata": {},
   "outputs": [],
   "source": [
    "def test_model(model, test_loader, computing_device, optimizer, criterion):\n",
    "    agg_accuracies = []\n",
    "    agg_precisions = []\n",
    "    agg_recalls = []\n",
    "    agg_BCRs = []\n",
    "\n",
    "    class_accuracies = []\n",
    "    class_precisions = []\n",
    "    class_recalls = []\n",
    "    class_BCRs = []\n",
    "    \n",
    "    total_acc_per_class = [0] * 14\n",
    "    total_pre_per_class = [0] * 14\n",
    "    total_rec_per_class = [0] * 14\n",
    "    total_BCR_per_class = [0] * 14\n",
    "    \n",
    "    conf_mtx = np.zeros((14, 14), dtype = np.float32)\n",
    "    \n",
    "    batch_start = 0\n",
    "    N = 50\n",
    "\n",
    "    with torch.no_grad():\n",
    "        # Get the next minibatch of images, labels \n",
    "        for minibatch_count, (images, labels) in enumerate(test_loader, 0):\n",
    "            # Put the minibatch data in CUDA Tensors and run on the GPU if supported\n",
    "            images, labels = images.to(computing_device), labels.to(computing_device)\n",
    "\n",
    "            # Zero out the stored gradient (buffer) from the previous iteration\n",
    "            #optimizer.zero_grad()\n",
    "\n",
    "            # Perform the forward pass through the network and compute the loss\n",
    "            outputs = model(images)\n",
    "            \n",
    "            # Performs sigmoid on the output for when the criterion is BCEWithLogitsLogs\n",
    "            if isinstance(criterion, nn.BCEWithLogitsLoss):\n",
    "                outputs = torch.sigmoid(outputs)\n",
    "            \n",
    "            predicted = torch.round(outputs.data)\n",
    "\n",
    "            # Convert from Cuda tensor -> numpy array\n",
    "            predicted = predicted.cpu().numpy()\n",
    "            labels = labels.cpu().numpy()\n",
    "\n",
    "            conf_mtx = confusion_matrix(conf_mtx, predicted, labels)\n",
    "\n",
    "            # Compute aggregated scores\n",
    "            acc = accuracy(predicted, labels)\n",
    "            pre = precision(predicted, labels)\n",
    "            rec = recall(predicted, labels)\n",
    "            bcr = BCR(predicted, labels)\n",
    "\n",
    "            agg_accuracies.append(acc)\n",
    "            agg_precisions.append(pre)\n",
    "            agg_recalls.append(rec)\n",
    "            agg_BCRs.append(bcr)\n",
    "\n",
    "            # Compute scores by class\n",
    "            acc = accuracy_per_class(predicted, labels)\n",
    "            pre = precision_per_class(predicted, labels)\n",
    "            rec = recall_per_class(predicted, labels)\n",
    "            bcr = BCR_per_class(predicted, labels)\n",
    "\n",
    "            class_accuracies.append(acc)\n",
    "            class_precisions.append(pre)\n",
    "            class_recalls.append(rec)\n",
    "            class_BCRs.append(bcr)\n",
    "            \n",
    "            total_acc_per_class += acc\n",
    "            total_pre_per_class += pre\n",
    "            total_rec_per_class += rec\n",
    "            total_BCR_per_class += bcr\n",
    "\n",
    "            if (minibatch_count + 1) % N == 0: \n",
    "                # Print the loss averaged over the last N mini-batches\n",
    "                print('----- Aggregated Scores -----')\n",
    "                print_scores(batch_start, minibatch_count, agg_accuracies, \n",
    "                             agg_precisions, agg_recalls, agg_BCRs, aggregate=True)\n",
    "                '''\n",
    "                print('----- Scores By Class -----')\n",
    "                print_scores(batch_start, minibatch_count, class_accuracies, \n",
    "                             class_precisions, class_recalls, class_BCRs, aggregate=False)\n",
    "                '''\n",
    "                batch_start = minibatch_count + 1\n",
    "                \n",
    "                #break\n",
    "                \n",
    "                \n",
    "    return total_acc_per_class / (minibatch_count + 1), total_pre_per_class / (minibatch_count + 1), total_rec_per_class / (minibatch_count + 1), total_BCR_per_class / (minibatch_count + 1), conf_mtx "
   ]
  },
  {
   "cell_type": "code",
   "execution_count": 14,
   "metadata": {},
   "outputs": [],
   "source": [
    "# Define the hyperparameters\n",
    "num_epochs = 2           # Number of full passes through the dataset\n",
    "batch_size = 16          # Number of samples in each minibatch\n",
    "learning_rate = 0.0001  \n",
    "seed = np.random.seed(1) # Seed the random number generator for reproducibility\n",
    "p_val = 0.4              # Percent of the overall dataset to reserve for validation\n",
    "p_test = 0.2             # Percent of the overall dataset to reserve for testing\n",
    "\n",
    "runs = 2                 # Used in k-fold validation"
   ]
  },
  {
   "cell_type": "code",
   "execution_count": 15,
   "metadata": {},
   "outputs": [
    {
     "name": "stdout",
     "output_type": "stream",
     "text": [
      "CUDA is supported\n",
      "Model on CUDA? True\n",
      "Run 0, Epoch 1, average minibatch 50 loss: 0.431\n",
      "1.4565992865636148 % done,  56.136483669281006  Seconds elapsed\n",
      "Saving model\n",
      "Finished 1 epochs of training\n",
      "Saving model\n",
      "Finished 2 epochs of training\n",
      "Training complete after 2 epochs\n",
      "----- Aggregated Scores -----\n",
      "Minibatch 49 accuracy: 0.9503571428571428\n",
      "Minibatch 49 precision: 0.064\n",
      "Minibatch 49 recall: 0.014591991341991342\n",
      "Minibatch 49 bcr: 0.03929599567099567\n",
      "Run 1, Epoch 1, average minibatch 50 loss: 0.222\n",
      "1.4565992865636148 % done,  56.435680627822876  Seconds elapsed\n",
      "Saving model\n",
      "Finished 1 epochs of training\n",
      "Saving model\n",
      "Finished 2 epochs of training\n",
      "Training complete after 2 epochs\n",
      "----- Aggregated Scores -----\n",
      "Minibatch 49 accuracy: 0.948125\n",
      "Minibatch 49 precision: 0.06\n",
      "Minibatch 49 recall: 0.010170401493930907\n",
      "Minibatch 49 bcr: 0.03508520074696545\n",
      "--------------------------------------------------------------------------\n",
      "Training loss\n",
      "[tensor(0.3537, device='cuda:0', grad_fn=<DivBackward0>)\n",
      " tensor(0.2458, device='cuda:0', grad_fn=<DivBackward0>)]\n",
      "--------------------------------------------------------------------------\n",
      "Validation loss\n",
      "[0.21575099 0.21009682]\n",
      "--------------------------------------------------------------------------\n",
      "Training accuracy\n",
      "[0.93080357 0.94446699]\n",
      "--------------------------------------------------------------------------\n",
      "Validation accuracy\n",
      "[0.94937819 0.94698661]\n",
      "--------------------------------------------------------------------------\n",
      "Per class accuracy\n",
      "[0.8925   0.96625  0.88125  0.825    0.954375 0.955    0.985    0.955625\n",
      " 0.9675   0.980625 0.97875  0.985    0.965    0.9975  ]\n",
      "--------------------------------------------------------------------------\n",
      "Per class precision\n",
      "[0.015      0.         0.03       0.02833333 0.         0.\n",
      " 0.         0.         0.         0.         0.         0.\n",
      " 0.         0.        ]\n",
      "--------------------------------------------------------------------------\n",
      "Per class recall\n",
      "[0.00866667 0.         0.02283333 0.0125     0.         0.\n",
      " 0.         0.         0.         0.         0.         0.\n",
      " 0.         0.        ]\n",
      "--------------------------------------------------------------------------\n",
      "Per class BCR\n",
      "[0.01183333 0.         0.02641667 0.02041667 0.         0.\n",
      " 0.         0.         0.         0.         0.         0.\n",
      " 0.         0.        ]\n",
      "--------------------------------------------------------------------------\n",
      "Confusion matrix\n",
      "[[0.16666667 0.05555556 0.22222222 0.11111111 0.         0.05555556\n",
      "  0.05555556 0.05555556 0.05555556 0.05555556 0.         0.05555556\n",
      "  0.05555556 0.05555556]\n",
      " [0.         0.         0.         0.         0.         0.\n",
      "  0.         0.         0.         0.         0.         0.\n",
      "  0.         0.        ]\n",
      " [0.1923077  0.         0.26923078 0.15384616 0.03846154 0.03846154\n",
      "  0.         0.         0.11538462 0.03846154 0.         0.07692308\n",
      "  0.03846154 0.03846154]\n",
      " [0.07142857 0.         0.21428572 0.42857143 0.         0.\n",
      "  0.         0.         0.14285715 0.         0.07142857 0.\n",
      "  0.         0.07142857]\n",
      " [0.         0.         0.         0.         0.         0.\n",
      "  0.         0.         0.         0.         0.         0.\n",
      "  0.         0.        ]\n",
      " [0.         0.         0.         0.         0.         0.\n",
      "  0.         0.         0.         0.         0.         0.\n",
      "  0.         0.        ]\n",
      " [0.         0.         0.         0.         0.         0.\n",
      "  0.         0.         0.         0.         0.         0.\n",
      "  0.         0.        ]\n",
      " [0.         1.         0.         0.         0.         0.\n",
      "  0.         0.         0.         0.         0.         0.\n",
      "  0.         0.        ]\n",
      " [0.         0.         0.         0.         0.         0.\n",
      "  0.         0.         0.         0.         0.         0.\n",
      "  0.         0.        ]\n",
      " [0.         0.         0.         0.         0.         0.\n",
      "  0.         0.         0.         0.         0.         0.\n",
      "  0.         0.        ]\n",
      " [0.         0.         0.         0.         0.         0.\n",
      "  0.         0.         0.         0.         0.         0.\n",
      "  0.         0.        ]\n",
      " [0.         0.         0.         0.         0.         0.\n",
      "  0.         0.         0.         0.         0.         0.\n",
      "  0.         0.        ]\n",
      " [0.         0.         0.         0.         0.         0.\n",
      "  0.         0.         0.         0.         0.         0.\n",
      "  0.         0.        ]\n",
      " [0.         0.         0.         0.         0.         0.\n",
      "  0.         0.         0.         0.         0.         0.\n",
      "  0.         0.        ]]\n"
     ]
    }
   ],
   "source": [
    "# BASELINE\n",
    "\n",
    "# Define the model parameters\n",
    "transform = transforms.Compose(\n",
    "    [transforms.Resize(512), \n",
    "     transforms.ToTensor()])\n",
    "\n",
    "\n",
    "# Check if your system supports CUDA\n",
    "use_cuda = torch.cuda.is_available()\n",
    "\n",
    "# Setup GPU optimization if CUDA is supported\n",
    "if use_cuda:\n",
    "    computing_device = torch.device(\"cuda\")\n",
    "    extras = {\"num_workers\": 1, \"pin_memory\": True}\n",
    "    print(\"CUDA is supported\")\n",
    "else: # Otherwise, train on the CPU\n",
    "    computing_device = torch.device(\"cpu\")\n",
    "    extras = False\n",
    "    print(\"CUDA NOT supported\")\n",
    "\n",
    "\n",
    "\n",
    "# trains the model\n",
    "model = BasicCNN()\n",
    "model = model.to(computing_device)\n",
    "print(\"Model on CUDA?\", next(model.parameters()).is_cuda)\n",
    "\n",
    "# Define the loss criterion and instantiate the gradient descent optimizer\n",
    "criterion = nn.BCELoss()\n",
    "\n",
    "# Instantiate the gradient descent optimizer - use Adam optimizer with default parameters\n",
    "optimizer = optim.Adam(model.parameters(), lr=learning_rate)\n",
    "\n",
    "train_losses = []\n",
    "valid_losses = []\n",
    "\n",
    "train_accs = []\n",
    "valid_accs = []\n",
    "\n",
    "class_accs = []\n",
    "class_pres = []\n",
    "class_recs = []\n",
    "class_bcrs = []\n",
    "\n",
    "conf_mtxs = []\n",
    "\n",
    "for r in range(runs):\n",
    "    # Setup the training, validation, and testing dataloaders\n",
    "    train_loader, val_loader, test_loader = create_split_loaders(batch_size, seed, transform=transform, \n",
    "                                                             p_val=p_val, p_test=p_test,\n",
    "                                                             shuffle=True, show_sample=False, \n",
    "                                                             extras=extras)\n",
    "    train_loss, valid_loss, train_acc, valid_acc, time_elapsed = train_model(r, model, 'Baseline', num_epochs, train_loader, computing_device, optimizer, criterion)\n",
    "    class_acc, class_pre, class_rec, class_bcr, conf_mtx = test_model(model, test_loader, computing_device, optimizer, criterion)\n",
    "    \n",
    "    train_losses.append(train_loss)\n",
    "    valid_losses.append(valid_loss)\n",
    "    train_accs.append(train_acc)\n",
    "    valid_accs.append(valid_acc)\n",
    "    class_accs.append(class_acc)\n",
    "    class_pres.append(class_pre)\n",
    "    class_recs.append(class_rec)\n",
    "    class_bcrs.append(class_bcr)\n",
    "    conf_mtxs.append(conf_mtx)\n",
    "    \n",
    "train_losses = np.mean(train_losses, axis=0)\n",
    "valid_losses = np.mean(valid_losses, axis=0)\n",
    "train_accs = np.mean(train_accs, axis=0)\n",
    "valid_accs = np.mean(valid_accs, axis=0)\n",
    "class_accs = np.mean(class_accs, axis=0)\n",
    "class_pres = np.mean(class_pres, axis=0)\n",
    "class_recs = np.mean(class_recs, axis=0)\n",
    "class_bcrs = np.mean(class_bcrs, axis=0)\n",
    "conf_mtxs = np.mean(conf_mtxs, axis=0) \n",
    "\n",
    "# Normalize the confusion matrix\n",
    "for j in range(conf_mtxs.shape[0]):\n",
    "    if np.sum(conf_mtxs[j]) != 0:\n",
    "        conf_mtxs[j] /= np.sum(conf_mtxs[j])\n",
    "        \n",
    "print('--------------------------------------------------------------------------')\n",
    "print(\"Training loss\")\n",
    "print(train_losses)\n",
    "\n",
    "print('--------------------------------------------------------------------------')\n",
    "print(\"Validation loss\")\n",
    "print(valid_losses)\n",
    "\n",
    "print('--------------------------------------------------------------------------')\n",
    "print(\"Training accuracy\")\n",
    "print(train_accs)\n",
    "\n",
    "print('--------------------------------------------------------------------------')\n",
    "print(\"Validation accuracy\")\n",
    "print(valid_accs)\n",
    "\n",
    "print('--------------------------------------------------------------------------')\n",
    "print(\"Per class accuracy\")\n",
    "print(class_accs)\n",
    "\n",
    "print('--------------------------------------------------------------------------')\n",
    "print(\"Per class precision\")\n",
    "print(class_pres)\n",
    "\n",
    "print('--------------------------------------------------------------------------')\n",
    "print(\"Per class recall\")\n",
    "print(class_recs)\n",
    "\n",
    "print('--------------------------------------------------------------------------')\n",
    "print(\"Per class BCR\")\n",
    "print(class_bcrs)\n",
    "\n",
    "print('--------------------------------------------------------------------------')\n",
    "print(\"Confusion matrix\")        \n",
    "print(conf_mtxs)"
   ]
  },
  {
   "cell_type": "code",
   "execution_count": 16,
   "metadata": {},
   "outputs": [
    {
     "data": {
      "image/png": "[encoded data removed]",
      "text/plain": [
       "<Figure size 432x288 with 1 Axes>"
      ]
     },
     "metadata": {
      "needs_background": "light"
     },
     "output_type": "display_data"
    }
   ],
   "source": [
    "plt.plot(range(len(train_loss)), train_loss, 'b--', label = 'Training Loss')\n",
    "plt.plot(range(len(valid_loss)), valid_loss, 'r--', label = 'Validation Loss')\n",
    "\n",
    "plt.grid(True)\n",
    "\n",
    "plt.xlabel(\"Minibatch\")\n",
    "plt.ylabel(\"Loss\")\n",
    "plt.title(\"Baseline Model Loss Curve\")\n",
    "plt.legend(loc=\"upper right\")\n",
    "\n",
    "plt.savefig(\"images/m0_loss.png\")"
   ]
  },
  {
   "cell_type": "code",
   "execution_count": 17,
   "metadata": {},
   "outputs": [
    {
     "data": {
      "image/png": "[encoded data removed]",
      "text/plain": [
       "<Figure size 432x288 with 1 Axes>"
      ]
     },
     "metadata": {
      "needs_background": "light"
     },
     "output_type": "display_data"
    }
   ],
   "source": [
    "plt.plot(range(len(train_acc)), train_acc, 'b--', label = 'Training Accuracy')\n",
    "plt.plot(range(len(valid_acc)), valid_acc, 'r--', label = 'Validation Accuracy')\n",
    "\n",
    "plt.grid(True)\n",
    "\n",
    "plt.xlabel(\"Minibatch\")\n",
    "plt.ylabel(\"Accuracy\")\n",
    "plt.title(\"Baseline Model Accuracy Curve\")\n",
    "plt.legend(loc='lower right')\n",
    "\n",
    "plt.savefig(\"images/m0_acc.png\")"
   ]
  },
  {
   "cell_type": "code",
   "execution_count": 18,
   "metadata": {
    "scrolled": true
   },
   "outputs": [
    {
     "data": {
      "text/plain": [
       "<matplotlib.image.AxesImage at 0x7f1e2e3ce3c8>"
      ]
     },
     "execution_count": 18,
     "metadata": {},
     "output_type": "execute_result"
    },
    {
     "data": {
      "image/png": "[encoded data removed]",
      "text/plain": [
       "<Figure size 432x288 with 1 Axes>"
      ]
     },
     "metadata": {
      "needs_background": "light"
     },
     "output_type": "display_data"
    },
    {
     "data": {
      "image/png": "[encoded data removed]",
      "text/plain": [
       "<Figure size 432x288 with 1 Axes>"
      ]
     },
     "metadata": {
      "needs_background": "light"
     },
     "output_type": "display_data"
    },
    {
     "data": {
      "image/png": "[encoded data removed]",
      "text/plain": [
       "<Figure size 432x288 with 1 Axes>"
      ]
     },
     "metadata": {
      "needs_background": "light"
     },
     "output_type": "display_data"
    },
    {
     "data": {
      "image/png": "[encoded data removed]",
      "text/plain": [
       "<Figure size 432x288 with 1 Axes>"
      ]
     },
     "metadata": {
      "needs_background": "light"
     },
     "output_type": "display_data"
    },
    {
     "data": {
      "image/png": "[encoded data removed]",
      "text/plain": [
       "<Figure size 432x288 with 1 Axes>"
      ]
     },
     "metadata": {
      "needs_background": "light"
     },
     "output_type": "display_data"
    },
    {
     "data": {
      "image/png": "[encoded data removed]",
      "text/plain": [
       "<Figure size 432x288 with 1 Axes>"
      ]
     },
     "metadata": {
      "needs_background": "light"
     },
     "output_type": "display_data"
    }
   ],
   "source": [
    "weights = model.conv1.weight.data.cpu().numpy()\n",
    "plt.imsave('images/m0_early1.png', weights[0, 0])\n",
    "plt.imsave('images/m0_early2.png', weights[1, 0])\n",
    "plt.figure().add_subplot(111).imshow(weights[0, 0])\n",
    "plt.figure().add_subplot(111).imshow(weights[1, 0])\n",
    "\n",
    "weights = model.conv2.weight.data.cpu().numpy()\n",
    "plt.imsave('images/m0_mid1.png', weights[0, 0])\n",
    "plt.imsave('images/m0_mid2.png', weights[1, 0])\n",
    "plt.figure().add_subplot(111).imshow(weights[0, 0])\n",
    "plt.figure().add_subplot(111).imshow(weights[1, 0])\n",
    "\n",
    "weights = model.conv3.weight.data.cpu().numpy()\n",
    "plt.imsave('images/m0_last1.png', weights[0, 0])\n",
    "plt.imsave('images/m0_last2.png', weights[1, 0])\n",
    "plt.figure().add_subplot(111).imshow(weights[0, 0])\n",
    "plt.figure().add_subplot(111).imshow(weights[1, 0])"
   ]
  },
  {
   "cell_type": "code",
   "execution_count": 19,
   "metadata": {},
   "outputs": [
    {
     "name": "stdout",
     "output_type": "stream",
     "text": [
      "CUDA is supported\n",
      "Model on CUDA? True\n",
      "Run 0, Epoch 1, average minibatch 50 loss: 0.292\n",
      "1.4565992865636148 % done,  53.02224397659302  Seconds elapsed\n",
      "Saving model\n",
      "Finished 1 epochs of training\n",
      "Saving model\n",
      "Finished 2 epochs of training\n",
      "Training complete after 2 epochs\n",
      "----- Aggregated Scores -----\n",
      "Minibatch 49 accuracy: 0.9432142857142858\n",
      "Minibatch 49 precision: 0.04\n",
      "Minibatch 49 recall: 0.005643939393939393\n",
      "Minibatch 49 bcr: 0.022821969696969698\n",
      "Run 1, Epoch 1, average minibatch 50 loss: 0.199\n",
      "1.4565992865636148 % done,  54.29378628730774  Seconds elapsed\n",
      "Saving model\n",
      "Finished 1 epochs of training\n",
      "Saving model\n",
      "Finished 2 epochs of training\n",
      "Training complete after 2 epochs\n",
      "----- Aggregated Scores -----\n",
      "Minibatch 49 accuracy: 0.949375\n",
      "Minibatch 49 precision: 0.021666666666666664\n",
      "Minibatch 49 recall: 0.004120813397129186\n",
      "Minibatch 49 bcr: 0.012893740031897926\n",
      "--------------------------------------------------------------------------\n",
      "Training loss\n",
      "[tensor(0.2690, device='cuda:0', grad_fn=<DivBackward0>)\n",
      " tensor(0.1861, device='cuda:0', grad_fn=<DivBackward0>)]\n",
      "--------------------------------------------------------------------------\n",
      "Validation loss\n",
      "[0.19303975 0.1973643 ]\n",
      "--------------------------------------------------------------------------\n",
      "Training accuracy\n",
      "[0.93262987 0.95116342]\n",
      "--------------------------------------------------------------------------\n",
      "Validation accuracy\n",
      "[0.94850128 0.94690689]\n",
      "--------------------------------------------------------------------------\n",
      "Per class accuracy\n",
      "[0.886875 0.9675   0.888125 0.811875 0.95875  0.94     0.98625  0.954375\n",
      " 0.960625 0.975    0.97875  0.9825   0.96     0.9975  ]\n",
      "--------------------------------------------------------------------------\n",
      "Per class precision\n",
      "[0.         0.         0.         0.025      0.         0.\n",
      " 0.         0.00833333 0.         0.         0.         0.\n",
      " 0.         0.        ]\n",
      "--------------------------------------------------------------------------\n",
      "Per class recall\n",
      "[0.         0.         0.         0.00809524 0.         0.\n",
      " 0.         0.01       0.         0.         0.         0.\n",
      " 0.         0.        ]\n",
      "--------------------------------------------------------------------------\n",
      "Per class BCR\n",
      "[0.         0.         0.         0.01654762 0.         0.\n",
      " 0.         0.00916667 0.         0.         0.         0.\n",
      " 0.         0.        ]\n",
      "--------------------------------------------------------------------------\n",
      "Confusion matrix\n",
      "[[0.         0.         0.         0.         0.         0.\n",
      "  0.         0.         0.         0.         0.         0.\n",
      "  0.         0.        ]\n",
      " [0.         0.         0.         0.         0.         0.\n",
      "  0.         0.         0.         0.         0.         0.\n",
      "  0.         0.        ]\n",
      " [0.         0.         0.         0.         0.         0.\n",
      "  0.         0.         0.         0.         0.         0.\n",
      "  0.         0.        ]\n",
      " [0.125      0.0625     0.0625     0.3125     0.0625     0.0625\n",
      "  0.         0.         0.         0.0625     0.0625     0.0625\n",
      "  0.125      0.        ]\n",
      " [0.         0.         0.         0.         0.         0.\n",
      "  0.         0.         0.         0.         0.         0.\n",
      "  0.         0.        ]\n",
      " [0.         0.         0.         0.         0.         0.\n",
      "  0.         0.         0.         0.         0.         0.\n",
      "  0.         0.        ]\n",
      " [0.         0.         0.         0.         0.         0.\n",
      "  0.         0.         0.         0.         0.         0.\n",
      "  0.         0.        ]\n",
      " [0.11111111 0.         0.11111111 0.33333334 0.         0.11111111\n",
      "  0.         0.22222222 0.         0.         0.         0.11111111\n",
      "  0.         0.        ]\n",
      " [0.         0.         0.         0.         0.         0.\n",
      "  0.         0.         0.         0.         0.         0.\n",
      "  0.         0.        ]\n",
      " [0.         0.         0.         0.         0.         0.\n",
      "  0.         0.         0.         0.         0.         0.\n",
      "  0.         0.        ]\n",
      " [0.         0.         0.         0.         0.         0.\n",
      "  0.         0.         0.         0.         0.         0.\n",
      "  0.         0.        ]\n",
      " [0.         0.         0.         0.         0.         0.\n",
      "  0.         0.         0.         0.         0.         0.\n",
      "  0.         0.        ]\n",
      " [0.         0.         0.         0.         0.         0.\n",
      "  0.         0.         0.         0.         0.         0.\n",
      "  0.         0.        ]\n",
      " [0.         0.         0.         0.         0.         0.\n",
      "  0.         0.         0.         0.         0.         0.\n",
      "  0.         0.        ]]\n"
     ]
    }
   ],
   "source": [
    "# CUSTOM MODEL 1\n",
    "\n",
    "# Define the model architecture and parameters\n",
    "channel = [1, 8, 8, 8, 16, 16, 16, 32, 32, 32]\n",
    "block_size = 3\n",
    "kernel = [5]*9\n",
    "pool_kernel = 2\n",
    "pool_stride = 2\n",
    "transform = transforms.Compose(\n",
    "    [transforms.Resize(256), \n",
    "     transforms.ToTensor()])\n",
    "\n",
    "\n",
    "# Check if your system supports CUDA\n",
    "use_cuda = torch.cuda.is_available()\n",
    "\n",
    "# Setup GPU optimization if CUDA is supported\n",
    "if use_cuda:\n",
    "    computing_device = torch.device(\"cuda\")\n",
    "    extras = {\"num_workers\": 1, \"pin_memory\": True}\n",
    "    print(\"CUDA is supported\")\n",
    "else: # Otherwise, train on the CPU\n",
    "    computing_device = torch.device(\"cpu\")\n",
    "    extras = False\n",
    "    print(\"CUDA NOT supported\")\n",
    "\n",
    "# Instantiate a BasicCNN to run on the GPU or CPU based on CUDA support\n",
    "model = Model1CNN(256, channel, kernel, block_size, pool_kernel, pool_stride)\n",
    "model = model.to(computing_device)\n",
    "print(\"Model on CUDA?\", next(model.parameters()).is_cuda)\n",
    "\n",
    "# Define the loss criterion and instantiate the gradient descent optimizer\n",
    "criterion = nn.BCELoss()\n",
    "\n",
    "# Instantiate the gradient descent optimizer - use Adam optimizer with default parameters\n",
    "optimizer = optim.Adam(model.parameters(), lr=learning_rate)\n",
    "\n",
    "train_losses = []\n",
    "valid_losses = []\n",
    "\n",
    "train_accs = []\n",
    "valid_accs = []\n",
    "\n",
    "class_accs = []\n",
    "class_pres = []\n",
    "class_recs = []\n",
    "class_bcrs = []\n",
    "\n",
    "conf_mtxs = []\n",
    "\n",
    "for r in range(runs):\n",
    "    # Setup the training, validation, and testing dataloaders\n",
    "    train_loader, val_loader, test_loader = create_split_loaders(batch_size, seed, transform=transform, \n",
    "                                                             p_val=p_val, p_test=p_test,\n",
    "                                                             shuffle=True, show_sample=False, \n",
    "                                                             extras=extras)\n",
    "    train_loss, valid_loss, train_acc, valid_acc, time_elapsed = train_model(r, model, 'Custom1', num_epochs, train_loader, computing_device, optimizer, criterion)\n",
    "    class_acc, class_pre, class_rec, class_bcr, conf_mtx = test_model(model, test_loader, computing_device, optimizer, criterion)\n",
    "    \n",
    "    train_losses.append(train_loss)\n",
    "    valid_losses.append(valid_loss)\n",
    "    train_accs.append(train_acc)\n",
    "    valid_accs.append(valid_acc)\n",
    "    class_accs.append(class_acc)\n",
    "    class_pres.append(class_pre)\n",
    "    class_recs.append(class_rec)\n",
    "    class_bcrs.append(class_bcr)\n",
    "    conf_mtxs.append(conf_mtx)\n",
    "    \n",
    "train_losses = np.mean(train_losses, axis=0)\n",
    "valid_losses = np.mean(valid_losses, axis=0)\n",
    "train_accs = np.mean(train_accs, axis=0)\n",
    "valid_accs = np.mean(valid_accs, axis=0)\n",
    "class_accs = np.mean(class_accs, axis=0)\n",
    "class_pres = np.mean(class_pres, axis=0)\n",
    "class_recs = np.mean(class_recs, axis=0)\n",
    "class_bcrs = np.mean(class_bcrs, axis=0)\n",
    "conf_mtxs = np.mean(conf_mtxs, axis=0) \n",
    "\n",
    "# Normalize the confusion matrix\n",
    "for j in range(conf_mtxs.shape[0]):\n",
    "    if np.sum(conf_mtxs[j]) != 0:\n",
    "        conf_mtxs[j] /= np.sum(conf_mtxs[j])\n",
    "        \n",
    "print('--------------------------------------------------------------------------')\n",
    "print(\"Training loss\")\n",
    "print(train_losses)\n",
    "\n",
    "print('--------------------------------------------------------------------------')\n",
    "print(\"Validation loss\")\n",
    "print(valid_losses)\n",
    "\n",
    "print('--------------------------------------------------------------------------')\n",
    "print(\"Training accuracy\")\n",
    "print(train_accs)\n",
    "\n",
    "print('--------------------------------------------------------------------------')\n",
    "print(\"Validation accuracy\")\n",
    "print(valid_accs)\n",
    "\n",
    "print('--------------------------------------------------------------------------')\n",
    "print(\"Per class accuracy\")\n",
    "print(class_accs)\n",
    "\n",
    "print('--------------------------------------------------------------------------')\n",
    "print(\"Per class precision\")\n",
    "print(class_pres)\n",
    "\n",
    "print('--------------------------------------------------------------------------')\n",
    "print(\"Per class recall\")\n",
    "print(class_recs)\n",
    "\n",
    "print('--------------------------------------------------------------------------')\n",
    "print(\"Per class BCR\")\n",
    "print(class_bcrs)\n",
    "\n",
    "print('--------------------------------------------------------------------------')\n",
    "print(\"Confusion matrix\")        \n",
    "print(conf_mtxs)"
   ]
  },
  {
   "cell_type": "code",
   "execution_count": 20,
   "metadata": {},
   "outputs": [
    {
     "data": {
      "image/png": "[encoded data removed]",
      "text/plain": [
       "<Figure size 432x288 with 1 Axes>"
      ]
     },
     "metadata": {
      "needs_background": "light"
     },
     "output_type": "display_data"
    }
   ],
   "source": [
    "plt.plot(range(len(train_loss)), train_loss, 'b--', label = 'Training Loss')\n",
    "plt.plot(range(len(valid_loss)), valid_loss, 'r--', label = 'Validation Loss')\n",
    "\n",
    "plt.grid(True)\n",
    "\n",
    "plt.xlabel(\"Minibatch\")\n",
    "plt.ylabel(\"Loss\")\n",
    "plt.title(\"Customized Model Loss Curve\")\n",
    "plt.legend(loc=\"upper right\")\n",
    "\n",
    "plt.savefig(\"images/m1_loss.png\")"
   ]
  },
  {
   "cell_type": "code",
   "execution_count": 21,
   "metadata": {},
   "outputs": [
    {
     "data": {
      "image/png": "[encoded data removed]",
      "text/plain": [
       "<Figure size 432x288 with 1 Axes>"
      ]
     },
     "metadata": {
      "needs_background": "light"
     },
     "output_type": "display_data"
    }
   ],
   "source": [
    "plt.plot(range(len(train_acc)), train_acc, 'b--', label = 'Training Accuracy')\n",
    "plt.plot(range(len(valid_acc)), valid_acc, 'r--', label = 'Validation Accuracy')\n",
    "\n",
    "plt.grid(True)\n",
    "\n",
    "plt.xlabel(\"Minibatch\")\n",
    "plt.ylabel(\"Accuracy\")\n",
    "plt.title(\"Customized Model Accuracy Curve\")\n",
    "plt.legend(loc='lower right')\n",
    "\n",
    "plt.savefig(\"images/m1_acc.png\")"
   ]
  },
  {
   "cell_type": "code",
   "execution_count": 22,
   "metadata": {
    "scrolled": true
   },
   "outputs": [
    {
     "data": {
      "text/plain": [
       "<matplotlib.image.AxesImage at 0x7f1e2e2a5e48>"
      ]
     },
     "execution_count": 22,
     "metadata": {},
     "output_type": "execute_result"
    },
    {
     "data": {
      "image/png": "[encoded data removed]",
      "text/plain": [
       "<Figure size 432x288 with 1 Axes>"
      ]
     },
     "metadata": {
      "needs_background": "light"
     },
     "output_type": "display_data"
    },
    {
     "data": {
      "image/png": "[encoded data removed]",
      "text/plain": [
       "<Figure size 432x288 with 1 Axes>"
      ]
     },
     "metadata": {
      "needs_background": "light"
     },
     "output_type": "display_data"
    },
    {
     "data": {
      "image/png": "[encoded data removed]",
      "text/plain": [
       "<Figure size 432x288 with 1 Axes>"
      ]
     },
     "metadata": {
      "needs_background": "light"
     },
     "output_type": "display_data"
    },
    {
     "data": {
      "image/png": "[encoded data removed]",
      "text/plain": [
       "<Figure size 432x288 with 1 Axes>"
      ]
     },
     "metadata": {
      "needs_background": "light"
     },
     "output_type": "display_data"
    },
    {
     "data": {
      "image/png": "[encoded data removed]",
      "text/plain": [
       "<Figure size 432x288 with 1 Axes>"
      ]
     },
     "metadata": {
      "needs_background": "light"
     },
     "output_type": "display_data"
    },
    {
     "data": {
      "image/png": "[encoded data removed]",
      "text/plain": [
       "<Figure size 432x288 with 1 Axes>"
      ]
     },
     "metadata": {
      "needs_background": "light"
     },
     "output_type": "display_data"
    }
   ],
   "source": [
    "weights = model.conv[2].weight.data.cpu().numpy()\n",
    "plt.imsave('images/m1_early1.png', weights[0, 0])\n",
    "plt.imsave('images/m1_early2.png', weights[1, 0])\n",
    "plt.figure().add_subplot(111).imshow(weights[0, 0])\n",
    "plt.figure().add_subplot(111).imshow(weights[1, 0])\n",
    "\n",
    "weights = model.conv[5].weight.data.cpu().numpy()\n",
    "plt.imsave('images/m1_mid1.png', weights[0, 0])\n",
    "plt.imsave('images/m1_mid2.png', weights[1, 0])\n",
    "plt.figure().add_subplot(111).imshow(weights[0, 0])\n",
    "plt.figure().add_subplot(111).imshow(weights[1, 0])\n",
    "\n",
    "weights = model.conv[8].weight.data.cpu().numpy()\n",
    "plt.imsave('images/m1_last1.png', weights[0, 0])\n",
    "plt.imsave('images/m1_last2.png', weights[1, 0])\n",
    "plt.figure().add_subplot(111).imshow(weights[0, 0])\n",
    "plt.figure().add_subplot(111).imshow(weights[1, 0])"
   ]
  },
  {
   "cell_type": "code",
   "execution_count": 23,
   "metadata": {},
   "outputs": [
    {
     "name": "stdout",
     "output_type": "stream",
     "text": [
      "CUDA is supported\n",
      "Model on CUDA? True\n",
      "Run 0, Epoch 1, average minibatch 50 loss: 0.225\n",
      "1.4565992865636148 % done,  52.255573749542236  Seconds elapsed\n",
      "Saving model\n",
      "Finished 1 epochs of training\n",
      "Saving model\n",
      "Finished 2 epochs of training\n",
      "Training complete after 2 epochs\n",
      "----- Aggregated Scores -----\n",
      "Minibatch 49 accuracy: 0.9441071428571429\n",
      "Minibatch 49 precision: 0.0\n",
      "Minibatch 49 recall: 0.0\n",
      "Minibatch 49 bcr: 0.0\n",
      "Run 1, Epoch 1, average minibatch 50 loss: 0.189\n",
      "1.4565992865636148 % done,  53.890055656433105  Seconds elapsed\n",
      "Saving model\n",
      "Finished 1 epochs of training\n",
      "Saving model\n",
      "Finished 2 epochs of training\n",
      "Training complete after 2 epochs\n",
      "----- Aggregated Scores -----\n",
      "Minibatch 49 accuracy: 0.947767857142857\n",
      "Minibatch 49 precision: 0.0\n",
      "Minibatch 49 recall: 0.0\n",
      "Minibatch 49 bcr: 0.0\n",
      "--------------------------------------------------------------------------\n",
      "Training loss\n",
      "[tensor(0.2156, device='cuda:0', grad_fn=<DivBackward0>)\n",
      " tensor(0.1903, device='cuda:0', grad_fn=<DivBackward0>)]\n",
      "--------------------------------------------------------------------------\n",
      "Validation loss\n",
      "[0.18113919 0.18545948]\n",
      "--------------------------------------------------------------------------\n",
      "Training accuracy\n",
      "[0.93736472 0.94710498]\n",
      "--------------------------------------------------------------------------\n",
      "Validation accuracy\n",
      "[0.94889987 0.94826212]\n",
      "--------------------------------------------------------------------------\n",
      "Per class accuracy\n",
      "[0.8775   0.971875 0.88625  0.810625 0.949375 0.941875 0.988125 0.951875\n",
      " 0.95875  0.985625 0.975625 0.985    0.96375  0.996875]\n",
      "--------------------------------------------------------------------------\n",
      "Per class precision\n",
      "[0. 0. 0. 0. 0. 0. 0. 0. 0. 0. 0. 0. 0. 0.]\n",
      "--------------------------------------------------------------------------\n",
      "Per class recall\n",
      "[0. 0. 0. 0. 0. 0. 0. 0. 0. 0. 0. 0. 0. 0.]\n",
      "--------------------------------------------------------------------------\n",
      "Per class BCR\n",
      "[0. 0. 0. 0. 0. 0. 0. 0. 0. 0. 0. 0. 0. 0.]\n",
      "--------------------------------------------------------------------------\n",
      "Confusion matrix\n",
      "[[0. 0. 0. 0. 0. 0. 0. 0. 0. 0. 0. 0. 0. 0.]\n",
      " [0. 0. 0. 0. 0. 0. 0. 0. 0. 0. 0. 0. 0. 0.]\n",
      " [0. 0. 0. 0. 0. 0. 0. 0. 0. 0. 0. 0. 0. 0.]\n",
      " [0. 0. 0. 0. 0. 0. 0. 0. 0. 0. 0. 0. 0. 0.]\n",
      " [0. 0. 0. 0. 0. 0. 0. 0. 0. 0. 0. 0. 0. 0.]\n",
      " [0. 0. 0. 0. 0. 0. 0. 0. 0. 0. 0. 0. 0. 0.]\n",
      " [0. 0. 0. 0. 0. 0. 0. 0. 0. 0. 0. 0. 0. 0.]\n",
      " [0. 0. 0. 0. 0. 0. 0. 0. 0. 0. 0. 0. 0. 0.]\n",
      " [0. 0. 0. 0. 0. 0. 0. 0. 0. 0. 0. 0. 0. 0.]\n",
      " [0. 0. 0. 0. 0. 0. 0. 0. 0. 0. 0. 0. 0. 0.]\n",
      " [0. 0. 0. 0. 0. 0. 0. 0. 0. 0. 0. 0. 0. 0.]\n",
      " [0. 0. 0. 0. 0. 0. 0. 0. 0. 0. 0. 0. 0. 0.]\n",
      " [0. 0. 0. 0. 0. 0. 0. 0. 0. 0. 0. 0. 0. 0.]\n",
      " [0. 0. 0. 0. 0. 0. 0. 0. 0. 0. 0. 0. 0. 0.]]\n"
     ]
    }
   ],
   "source": [
    "# CUSTOM MODEL 2\n",
    "\n",
    "# Define the model parameters\n",
    "transform = transforms.Compose(\n",
    "    [transforms.Resize(256), \n",
    "     transforms.ToTensor()])\n",
    "\n",
    "\n",
    "# Check if your system supports CUDA\n",
    "use_cuda = torch.cuda.is_available()\n",
    "\n",
    "# Setup GPU optimization if CUDA is supported\n",
    "if use_cuda:\n",
    "    computing_device = torch.device(\"cuda\")\n",
    "    extras = {\"num_workers\": 1, \"pin_memory\": True}\n",
    "    print(\"CUDA is supported\")\n",
    "else: # Otherwise, train on the CPU\n",
    "    computing_device = torch.device(\"cpu\")\n",
    "    extras = False\n",
    "    print(\"CUDA NOT supported\")\n",
    "\n",
    "# trains the model\n",
    "model = Model2CNN()\n",
    "model = model.to(computing_device)\n",
    "print(\"Model on CUDA?\", next(model.parameters()).is_cuda)\n",
    "\n",
    "# Define the loss criterion and instantiate the gradient descent optimizer\n",
    "criterion = nn.BCELoss()\n",
    "\n",
    "# Instantiate the gradient descent optimizer - use Adam optimizer with default parameters\n",
    "optimizer = optim.Adam(model.parameters(), lr=learning_rate)\n",
    "\n",
    "train_losses = []\n",
    "valid_losses = []\n",
    "\n",
    "train_accs = []\n",
    "valid_accs = []\n",
    "\n",
    "class_accs = []\n",
    "class_pres = []\n",
    "class_recs = []\n",
    "class_bcrs = []\n",
    "\n",
    "conf_mtxs = []\n",
    "\n",
    "for r in range(runs):\n",
    "    # Setup the training, validation, and testing dataloaders\n",
    "    train_loader, val_loader, test_loader = create_split_loaders(batch_size, seed, transform=transform, \n",
    "                                                             p_val=p_val, p_test=p_test,\n",
    "                                                             shuffle=True, show_sample=False, \n",
    "                                                             extras=extras)\n",
    "    train_loss, valid_loss, train_acc, valid_acc, time_elapsed = train_model(r, model, 'Custom2', num_epochs, train_loader, computing_device, optimizer, criterion)\n",
    "    class_acc, class_pre, class_rec, class_bcr, conf_mtx = test_model(model, test_loader, computing_device, optimizer, criterion)\n",
    "    \n",
    "    train_losses.append(train_loss)\n",
    "    valid_losses.append(valid_loss)\n",
    "    train_accs.append(train_acc)\n",
    "    valid_accs.append(valid_acc)\n",
    "    class_accs.append(class_acc)\n",
    "    class_pres.append(class_pre)\n",
    "    class_recs.append(class_rec)\n",
    "    class_bcrs.append(class_bcr)\n",
    "    conf_mtxs.append(conf_mtx)\n",
    "    \n",
    "train_losses = np.mean(train_losses, axis=0)\n",
    "valid_losses = np.mean(valid_losses, axis=0)\n",
    "train_accs = np.mean(train_accs, axis=0)\n",
    "valid_accs = np.mean(valid_accs, axis=0)\n",
    "class_accs = np.mean(class_accs, axis=0)\n",
    "class_pres = np.mean(class_pres, axis=0)\n",
    "class_recs = np.mean(class_recs, axis=0)\n",
    "class_bcrs = np.mean(class_bcrs, axis=0)\n",
    "conf_mtxs = np.mean(conf_mtxs, axis=0) \n",
    "\n",
    "# Normalize the confusion matrix\n",
    "for j in range(conf_mtxs.shape[0]):\n",
    "    if np.sum(conf_mtxs[j]) != 0:\n",
    "        conf_mtxs[j] /= np.sum(conf_mtxs[j])\n",
    "        \n",
    "print('--------------------------------------------------------------------------')\n",
    "print(\"Training loss\")\n",
    "print(train_losses)\n",
    "\n",
    "print('--------------------------------------------------------------------------')\n",
    "print(\"Validation loss\")\n",
    "print(valid_losses)\n",
    "\n",
    "print('--------------------------------------------------------------------------')\n",
    "print(\"Training accuracy\")\n",
    "print(train_accs)\n",
    "\n",
    "print('--------------------------------------------------------------------------')\n",
    "print(\"Validation accuracy\")\n",
    "print(valid_accs)\n",
    "\n",
    "print('--------------------------------------------------------------------------')\n",
    "print(\"Per class accuracy\")\n",
    "print(class_accs)\n",
    "\n",
    "print('--------------------------------------------------------------------------')\n",
    "print(\"Per class precision\")\n",
    "print(class_pres)\n",
    "\n",
    "print('--------------------------------------------------------------------------')\n",
    "print(\"Per class recall\")\n",
    "print(class_recs)\n",
    "\n",
    "print('--------------------------------------------------------------------------')\n",
    "print(\"Per class BCR\")\n",
    "print(class_bcrs)\n",
    "\n",
    "print('--------------------------------------------------------------------------')\n",
    "print(\"Confusion matrix\")        \n",
    "print(conf_mtxs)"
   ]
  },
  {
   "cell_type": "code",
   "execution_count": 24,
   "metadata": {},
   "outputs": [
    {
     "data": {
      "image/png": "[encoded data removed]",
      "text/plain": [
       "<Figure size 432x288 with 1 Axes>"
      ]
     },
     "metadata": {
      "needs_background": "light"
     },
     "output_type": "display_data"
    }
   ],
   "source": [
    "plt.plot(range(len(train_loss)), train_loss, 'b--', label = 'Training Loss')\n",
    "plt.plot(range(len(valid_loss)), valid_loss, 'r--', label = 'Validation Loss')\n",
    "\n",
    "plt.grid(True)\n",
    "\n",
    "plt.xlabel(\"Minibatch\")\n",
    "plt.ylabel(\"Loss\")\n",
    "plt.title(\"ResNet12 Loss Curve\")\n",
    "plt.legend(loc='upper right')\n",
    "\n",
    "plt.savefig(\"images/m2_loss.png\")"
   ]
  },
  {
   "cell_type": "code",
   "execution_count": 25,
   "metadata": {},
   "outputs": [
    {
     "data": {
      "image/png": "[encoded data removed]",
      "text/plain": [
       "<Figure size 432x288 with 1 Axes>"
      ]
     },
     "metadata": {
      "needs_background": "light"
     },
     "output_type": "display_data"
    }
   ],
   "source": [
    "plt.plot(range(len(train_acc)), train_acc, 'b--', label = 'Training Accuracy')\n",
    "plt.plot(range(len(valid_acc)), valid_acc, 'r--', label = 'Validation Accuracy')\n",
    "\n",
    "plt.grid(True)\n",
    "\n",
    "plt.xlabel(\"Minibatch\")\n",
    "plt.ylabel(\"Accuracy\")\n",
    "plt.title(\"ResNet12 Accuracy Curve\")\n",
    "plt.legend(loc='lower right')\n",
    "\n",
    "plt.savefig(\"images/m2_acc.png\")"
   ]
  },
  {
   "cell_type": "code",
   "execution_count": 26,
   "metadata": {
    "scrolled": true
   },
   "outputs": [
    {
     "data": {
      "text/plain": [
       "<matplotlib.image.AxesImage at 0x7f1e2e1f2860>"
      ]
     },
     "execution_count": 26,
     "metadata": {},
     "output_type": "execute_result"
    },
    {
     "data": {
      "image/png": "[encoded data removed]",
      "text/plain": [
       "<Figure size 432x288 with 1 Axes>"
      ]
     },
     "metadata": {
      "needs_background": "light"
     },
     "output_type": "display_data"
    },
    {
     "data": {
      "image/png": "[encoded data removed]",
      "text/plain": [
       "<Figure size 432x288 with 1 Axes>"
      ]
     },
     "metadata": {
      "needs_background": "light"
     },
     "output_type": "display_data"
    },
    {
     "data": {
      "image/png": "[encoded data removed]",
      "text/plain": [
       "<Figure size 432x288 with 1 Axes>"
      ]
     },
     "metadata": {
      "needs_background": "light"
     },
     "output_type": "display_data"
    },
    {
     "data": {
      "image/png": "[encoded data removed]",
      "text/plain": [
       "<Figure size 432x288 with 1 Axes>"
      ]
     },
     "metadata": {
      "needs_background": "light"
     },
     "output_type": "display_data"
    },
    {
     "data": {
      "image/png": "[encoded data removed]",
      "text/plain": [
       "<Figure size 432x288 with 1 Axes>"
      ]
     },
     "metadata": {
      "needs_background": "light"
     },
     "output_type": "display_data"
    },
    {
     "data": {
      "image/png": "[encoded data removed]",
      "text/plain": [
       "<Figure size 432x288 with 1 Axes>"
      ]
     },
     "metadata": {
      "needs_background": "light"
     },
     "output_type": "display_data"
    }
   ],
   "source": [
    "weights = model.conv3.weight.data.cpu().numpy()\n",
    "plt.imsave('images/m2_early1.png', weights[0, 0])\n",
    "plt.imsave('images/m2_early2.png', weights[1, 0])\n",
    "plt.figure().add_subplot(111).imshow(weights[0, 0])\n",
    "plt.figure().add_subplot(111).imshow(weights[1, 0])\n",
    "\n",
    "weights = model.conv6.weight.data.cpu().numpy()\n",
    "plt.imsave('images/m2_mid1.png', weights[0, 0])\n",
    "plt.imsave('images/m2_mid2.png', weights[1, 0])\n",
    "plt.figure().add_subplot(111).imshow(weights[0, 0])\n",
    "plt.figure().add_subplot(111).imshow(weights[1, 0])\n",
    "\n",
    "weights = model.conv12.weight.data.cpu().numpy()\n",
    "plt.imsave('images/m2_last1.png', weights[0, 0])\n",
    "plt.imsave('images/m2_last2.png', weights[1, 0])\n",
    "plt.figure().add_subplot(111).imshow(weights[0, 0])\n",
    "plt.figure().add_subplot(111).imshow(weights[1, 0])"
   ]
  },
  {
   "cell_type": "code",
   "execution_count": 28,
   "metadata": {},
   "outputs": [
    {
     "name": "stdout",
     "output_type": "stream",
     "text": [
      "CUDA is supported\n",
      "Model on CUDA? True\n",
      "Finished counting minibatch 50\n",
      "Total data points = 800\n",
      "Total class counts = tensor([ 77.,  34.,  93., 163.,  43.,  40.,  12.,  33.,  26.,  16.,  19.,   7.,\n",
      "         23.,   1.], device='cuda:0')\n",
      "Finished counting minibatch 100\n",
      "Total data points = 1600\n",
      "Total class counts = tensor([161.,  52., 179., 309.,  88.,  95.,  21.,  78.,  61.,  32.,  40.,  16.,\n",
      "         42.,   4.], device='cuda:0')\n",
      "--------------------------------------------------------------------------\n",
      "Inverse Class Frequency\n",
      "tensor([  8.8827,  29.2075,   7.8944,   4.1645,  16.9888,  15.6771,  71.7727,\n",
      "         19.2658,  24.8226,  47.5152,  38.0488,  93.1765,  36.2326, 319.2000],\n",
      "       device='cuda:0')\n",
      "Run 0, Epoch 1, average minibatch 50 loss: 1.476\n",
      "1.4565992865636148 % done,  54.577637672424316  Seconds elapsed\n",
      "Saving model\n",
      "Finished 1 epochs of training\n",
      "Saving model\n",
      "Finished 2 epochs of training\n",
      "Training complete after 2 epochs\n",
      "----- Aggregated Scores -----\n",
      "Minibatch 49 accuracy: 0.4872321428571429\n",
      "Minibatch 49 precision: 0.05325212363957787\n",
      "Minibatch 49 recall: 0.5435055049682522\n",
      "Minibatch 49 bcr: 0.29837881430391505\n",
      "Finished counting minibatch 50\n",
      "Total data points = 800\n",
      "Total class counts = tensor([ 72.,  14.,  94., 146.,  50.,  44.,  11.,  43.,  38.,  23.,  15.,  16.,\n",
      "         31.,   2.], device='cuda:0')\n",
      "Finished counting minibatch 100\n",
      "Total data points = 1600\n",
      "Total class counts = tensor([143.,  32., 188., 313.,  96.,  89.,  20.,  79.,  74.,  42.,  37.,  25.,\n",
      "         61.,   3.], device='cuda:0')\n",
      "--------------------------------------------------------------------------\n",
      "Inverse Class Frequency\n",
      "tensor([ 10.1181,  47.5152,   7.4709,   4.0987,  15.5052,  16.7889,  75.2381,\n",
      "         19.0125,  20.3467,  36.2326,  41.1316,  60.5769,  24.8226, 399.2500],\n",
      "       device='cuda:0')\n",
      "Run 1, Epoch 1, average minibatch 50 loss: 1.351\n",
      "1.4565992865636148 % done,  53.99908375740051  Seconds elapsed\n",
      "Saving model\n",
      "Finished 1 epochs of training\n",
      "Saving model\n",
      "Finished 2 epochs of training\n",
      "Training complete after 2 epochs\n",
      "----- Aggregated Scores -----\n",
      "Minibatch 49 accuracy: 0.6164285714285714\n",
      "Minibatch 49 precision: 0.079768247504627\n",
      "Minibatch 49 recall: 0.4952625715618616\n",
      "Minibatch 49 bcr: 0.2875154095332443\n",
      "--------------------------------------------------------------------------\n",
      "Training loss\n",
      "[tensor(1.3682, device='cuda:0', grad_fn=<DivBackward0>)\n",
      " tensor(1.3884, device='cuda:0', grad_fn=<DivBackward0>)]\n",
      "--------------------------------------------------------------------------\n",
      "Validation loss\n",
      "[1.2190336 1.3594575]\n",
      "--------------------------------------------------------------------------\n",
      "Training accuracy\n",
      "[0.47558171 0.51731602]\n",
      "--------------------------------------------------------------------------\n",
      "Validation accuracy\n",
      "[0.55970982 0.55588329]\n",
      "--------------------------------------------------------------------------\n",
      "Per class accuracy\n",
      "[0.368125 0.940625 0.2975   0.494375 0.6425   0.330625 0.961875 0.41625\n",
      " 0.595    0.73125  0.16     0.203125 0.665    0.919375]\n",
      "--------------------------------------------------------------------------\n",
      "Per class precision\n",
      "[0.09263668 0.005      0.10936465 0.17083364 0.04190454 0.05186492\n",
      " 0.         0.04006373 0.03728788 0.01130556 0.02124671 0.0172345\n",
      " 0.00805988 0.        ]\n",
      "--------------------------------------------------------------------------\n",
      "Per class recall\n",
      "[0.35480952 0.005      0.45141667 0.34220238 0.15916667 0.258\n",
      " 0.         0.18666667 0.11333333 0.03333333 0.1325     0.11\n",
      " 0.04166667 0.        ]\n",
      "--------------------------------------------------------------------------\n",
      "Per class BCR\n",
      "[0.2237231  0.005      0.28039066 0.25651801 0.1005356  0.15493246\n",
      " 0.         0.1133652  0.07531061 0.02231944 0.07687336 0.06361725\n",
      " 0.02486328 0.        ]\n",
      "--------------------------------------------------------------------------\n",
      "Confusion matrix\n",
      "[[0.16949153 0.04237288 0.13276836 0.24435028 0.07909604 0.08615819\n",
      "  0.01553672 0.06355932 0.04096045 0.02966102 0.02259887 0.02118644\n",
      "  0.04661017 0.00564972]\n",
      " [0.10869565 0.02173913 0.2173913  0.2173913  0.06521739 0.06521739\n",
      "  0.02173913 0.08695652 0.06521739 0.06521739 0.02173913 0.\n",
      "  0.04347826 0.        ]\n",
      " [0.12405063 0.03417721 0.18860759 0.25189874 0.07341772 0.07974683\n",
      "  0.01772152 0.0556962  0.04810126 0.03164557 0.02405063 0.02911392\n",
      "  0.03544304 0.00632911]\n",
      " [0.12967034 0.04395605 0.12307692 0.32967034 0.06373627 0.07252748\n",
      "  0.00659341 0.05274725 0.05274725 0.01538462 0.03516484 0.02857143\n",
      "  0.04175824 0.0043956 ]\n",
      " [0.13473053 0.0508982  0.16167665 0.2245509  0.12275449 0.06287425\n",
      "  0.01197605 0.07185629 0.02994012 0.0239521  0.0239521  0.02694611\n",
      "  0.0508982  0.00299401]\n",
      " [0.14854111 0.0464191  0.1458886  0.25066313 0.06896552 0.08753315\n",
      "  0.0132626  0.066313   0.05172414 0.0265252  0.02785146 0.01856764\n",
      "  0.04244032 0.00530504]\n",
      " [0.11764706 0.02941176 0.20588236 0.20588236 0.05882353 0.0882353\n",
      "  0.         0.         0.1764706  0.         0.05882353 0.\n",
      "  0.05882353 0.        ]\n",
      " [0.12662338 0.05844156 0.14935064 0.25162336 0.08766234 0.0762987\n",
      "  0.01298701 0.07467532 0.04707792 0.0211039  0.0275974  0.01785714\n",
      "  0.04383117 0.00487013]\n",
      " [0.14081633 0.03877551 0.15918367 0.2734694  0.03469388 0.07755102\n",
      "  0.02040816 0.07142857 0.05306122 0.03673469 0.02653061 0.01632653\n",
      "  0.04693878 0.00408163]\n",
      " [0.12658228 0.04746835 0.16455697 0.29113925 0.06962025 0.06012658\n",
      "  0.00949367 0.07594936 0.07594936 0.0221519  0.01898734 0.01582278\n",
      "  0.0221519  0.        ]\n",
      " [0.13445379 0.04831933 0.15021008 0.25315127 0.07352941 0.08613446\n",
      "  0.01470588 0.06407563 0.04516807 0.02415966 0.03151261 0.0262605\n",
      "  0.04306723 0.0052521 ]\n",
      " [0.13694267 0.04883227 0.15605095 0.25477707 0.07324841 0.07430998\n",
      "  0.01592357 0.06475584 0.04670913 0.02760085 0.02760085 0.02547771\n",
      "  0.04246284 0.00530786]\n",
      " [0.12195122 0.04878049 0.12195122 0.2508711  0.11498258 0.09059233\n",
      "  0.01393728 0.05574913 0.05574913 0.02787456 0.02787456 0.03135889\n",
      "  0.03135889 0.00696864]\n",
      " [0.11842106 0.10526316 0.11842106 0.21052632 0.13157895 0.13157895\n",
      "  0.         0.03947368 0.01315789 0.         0.05263158 0.03947368\n",
      "  0.03947368 0.        ]]\n"
     ]
    }
   ],
   "source": [
    "# RERUN CUSTOM MODEL 2 WITH CLASS BALANCING\n",
    "\n",
    "# Define the model parameters\n",
    "transform = transforms.Compose(\n",
    "    [transforms.Resize(256), \n",
    "     transforms.ToTensor()])\n",
    "\n",
    "\n",
    "# Check if your system supports CUDA\n",
    "use_cuda = torch.cuda.is_available()\n",
    "\n",
    "# Setup GPU optimization if CUDA is supported\n",
    "if use_cuda:\n",
    "    computing_device = torch.device(\"cuda\")\n",
    "    extras = {\"num_workers\": 1, \"pin_memory\": True}\n",
    "    print(\"CUDA is supported\")\n",
    "else: # Otherwise, train on the CPU\n",
    "    computing_device = torch.device(\"cpu\")\n",
    "    extras = False\n",
    "    print(\"CUDA NOT supported\")\n",
    "\n",
    "\n",
    "# Train the model\n",
    "model = Model2CNN(skip_sigmoid=True)\n",
    "model = model.to(computing_device)\n",
    "print(\"Model on CUDA?\", next(model.parameters()).is_cuda)\n",
    "\n",
    "# Instantiate the gradient descent optimizer - use Adam optimizer with default parameters\n",
    "optimizer = optim.Adam(model.parameters(), lr=learning_rate)\n",
    "\n",
    "train_losses = []\n",
    "valid_losses = []\n",
    "\n",
    "train_accs = []\n",
    "valid_accs = []\n",
    "\n",
    "class_accs = []\n",
    "class_pres = []\n",
    "class_recs = []\n",
    "class_bcrs = []\n",
    "\n",
    "conf_mtxs = []\n",
    "\n",
    "for r in range(runs):\n",
    "    # Setup the training, validation, and testing dataloaders\n",
    "    train_loader, val_loader, test_loader = create_split_loaders(batch_size, seed, transform=transform, \n",
    "                                                             p_val=p_val, p_test=p_test,\n",
    "                                                             shuffle=True, show_sample=False, \n",
    "                                                             extras=extras)\n",
    "    \n",
    "    # Creates the weights to address the class imbalance\n",
    "    total_data_points = 0\n",
    "    if use_cuda:\n",
    "        total_class_counts = torch.cuda.FloatTensor(14).fill_(0)\n",
    "    else:\n",
    "        total_class_counts = torch.FloatTensor(14).fill_(0)    \n",
    "        \n",
    "    N = 50\n",
    "    NN = 100\n",
    "    for minibatch_count, (images, labels) in enumerate(train_loader, 0):\n",
    "        total_data_points += labels.shape[0]\n",
    "        total_class_counts += torch.sum(labels, dim = 0).cuda()\n",
    "        if (minibatch_count + 1) % N == 0:\n",
    "            print(\"Finished counting minibatch \" + str(minibatch_count + 1))\n",
    "            print(\"Total data points = \" + str(total_data_points))\n",
    "            print(\"Total class counts = \" + str(total_class_counts))\n",
    "        if (minibatch_count + 1) % NN == 0:\n",
    "            break\n",
    "\n",
    "    inverse_class_frequency = (total_data_points - total_class_counts) / (total_class_counts + 1)\n",
    "\n",
    "    print('--------------------------------------------------------------------------')\n",
    "    print(\"Inverse Class Frequency\")\n",
    "    print(inverse_class_frequency)\n",
    "    \n",
    "    # Define the loss criterion and instantiate the gradient descent optimizer\n",
    "    criterion = nn.BCEWithLogitsLoss(pos_weight=inverse_class_frequency)\n",
    "    \n",
    "    train_loss, valid_loss, train_acc, valid_acc, time_elapsed = train_model(r, model, 'Custom2ClassBalance', num_epochs, train_loader, computing_device, optimizer, criterion)\n",
    "    class_acc, class_pre, class_rec, class_bcr, conf_mtx = test_model(model, test_loader, computing_device, optimizer, criterion)\n",
    "    \n",
    "    train_losses.append(train_loss)\n",
    "    valid_losses.append(valid_loss)\n",
    "    train_accs.append(train_acc)\n",
    "    valid_accs.append(valid_acc)\n",
    "    class_accs.append(class_acc)\n",
    "    class_pres.append(class_pre)\n",
    "    class_recs.append(class_rec)\n",
    "    class_bcrs.append(class_bcr)\n",
    "    conf_mtxs.append(conf_mtx)\n",
    "    \n",
    "train_losses = np.mean(train_losses, axis=0)\n",
    "valid_losses = np.mean(valid_losses, axis=0)\n",
    "train_accs = np.mean(train_accs, axis=0)\n",
    "valid_accs = np.mean(valid_accs, axis=0)\n",
    "class_accs = np.mean(class_accs, axis=0)\n",
    "class_pres = np.mean(class_pres, axis=0)\n",
    "class_recs = np.mean(class_recs, axis=0)\n",
    "class_bcrs = np.mean(class_bcrs, axis=0)\n",
    "conf_mtxs = np.mean(conf_mtxs, axis=0) \n",
    "\n",
    "# Normalize the confusion matrix\n",
    "for j in range(conf_mtxs.shape[0]):\n",
    "    if np.sum(conf_mtxs[j]) != 0:\n",
    "        conf_mtxs[j] /= np.sum(conf_mtxs[j])\n",
    "        \n",
    "print('--------------------------------------------------------------------------')\n",
    "print(\"Training loss\")\n",
    "print(train_losses)\n",
    "\n",
    "print('--------------------------------------------------------------------------')\n",
    "print(\"Validation loss\")\n",
    "print(valid_losses)\n",
    "\n",
    "print('--------------------------------------------------------------------------')\n",
    "print(\"Training accuracy\")\n",
    "print(train_accs)\n",
    "\n",
    "print('--------------------------------------------------------------------------')\n",
    "print(\"Validation accuracy\")\n",
    "print(valid_accs)\n",
    "\n",
    "print('--------------------------------------------------------------------------')\n",
    "print(\"Per class accuracy\")\n",
    "print(class_accs)\n",
    "\n",
    "print('--------------------------------------------------------------------------')\n",
    "print(\"Per class precision\")\n",
    "print(class_pres)\n",
    "\n",
    "print('--------------------------------------------------------------------------')\n",
    "print(\"Per class recall\")\n",
    "print(class_recs)\n",
    "\n",
    "print('--------------------------------------------------------------------------')\n",
    "print(\"Per class BCR\")\n",
    "print(class_bcrs)\n",
    "\n",
    "print('--------------------------------------------------------------------------')\n",
    "print(\"Confusion matrix\")        \n",
    "print(conf_mtxs)"
   ]
  },
  {
   "cell_type": "code",
   "execution_count": 29,
   "metadata": {},
   "outputs": [
    {
     "data": {
      "image/png": "[encoded data removed]",
      "text/plain": [
       "<Figure size 432x288 with 1 Axes>"
      ]
     },
     "metadata": {
      "needs_background": "light"
     },
     "output_type": "display_data"
    }
   ],
   "source": [
    "plt.plot(range(len(train_loss)), train_loss, 'b--', label = 'Training Loss')\n",
    "plt.plot(range(len(valid_loss)), valid_loss, 'r--', label = 'Validation Loss')\n",
    "\n",
    "plt.grid(True)\n",
    "\n",
    "plt.xlabel(\"Minibatch\")\n",
    "plt.ylabel(\"Loss\")\n",
    "plt.title(\"ResNet12 With Class Balancing Loss Curve\")\n",
    "plt.legend(loc='upper right')\n",
    "\n",
    "plt.savefig(\"images/m3_loss.png\")"
   ]
  },
  {
   "cell_type": "code",
   "execution_count": 30,
   "metadata": {},
   "outputs": [
    {
     "data": {
      "image/png": "[encoded data removed]",
      "text/plain": [
       "<Figure size 432x288 with 1 Axes>"
      ]
     },
     "metadata": {
      "needs_background": "light"
     },
     "output_type": "display_data"
    }
   ],
   "source": [
    "plt.plot(range(len(train_acc)), train_acc, 'b--', label = 'Training Accuracy')\n",
    "plt.plot(range(len(valid_acc)), valid_acc, 'r--', label = 'Validation Accuracy')\n",
    "\n",
    "plt.grid(True)\n",
    "\n",
    "plt.xlabel(\"Minibatch\")\n",
    "plt.ylabel(\"Accuracy\")\n",
    "plt.title(\"ResNet12 With Class Balancing Accuracy Curve\")\n",
    "plt.legend(loc='lower right')\n",
    "\n",
    "plt.savefig(\"images/m3_acc.png\")"
   ]
  },
  {
   "cell_type": "code",
   "execution_count": 31,
   "metadata": {
    "scrolled": true
   },
   "outputs": [
    {
     "data": {
      "text/plain": [
       "<matplotlib.image.AxesImage at 0x7f1e2e3f48d0>"
      ]
     },
     "execution_count": 31,
     "metadata": {},
     "output_type": "execute_result"
    },
    {
     "data": {
      "image/png": "[encoded data removed]",
      "text/plain": [
       "<Figure size 432x288 with 1 Axes>"
      ]
     },
     "metadata": {
      "needs_background": "light"
     },
     "output_type": "display_data"
    },
    {
     "data": {
      "image/png": "[encoded data removed]",
      "text/plain": [
       "<Figure size 432x288 with 1 Axes>"
      ]
     },
     "metadata": {
      "needs_background": "light"
     },
     "output_type": "display_data"
    },
    {
     "data": {
      "image/png": "[encoded data removed]",
      "text/plain": [
       "<Figure size 432x288 with 1 Axes>"
      ]
     },
     "metadata": {
      "needs_background": "light"
     },
     "output_type": "display_data"
    },
    {
     "data": {
      "image/png": "[encoded data removed]",
      "text/plain": [
       "<Figure size 432x288 with 1 Axes>"
      ]
     },
     "metadata": {
      "needs_background": "light"
     },
     "output_type": "display_data"
    },
    {
     "data": {
      "image/png": "[encoded data removed]",
      "text/plain": [
       "<Figure size 432x288 with 1 Axes>"
      ]
     },
     "metadata": {
      "needs_background": "light"
     },
     "output_type": "display_data"
    },
    {
     "data": {
      "image/png": "[encoded data removed]",
      "text/plain": [
       "<Figure size 432x288 with 1 Axes>"
      ]
     },
     "metadata": {
      "needs_background": "light"
     },
     "output_type": "display_data"
    }
   ],
   "source": [
    "weights = model.conv3.weight.data.cpu().numpy()\n",
    "plt.imsave('images/m3_early1.png', weights[0, 0])\n",
    "plt.imsave('images/m3_early2.png', weights[1, 0])\n",
    "plt.figure().add_subplot(111).imshow(weights[0, 0])\n",
    "plt.figure().add_subplot(111).imshow(weights[1, 0])\n",
    "\n",
    "weights = model.conv6.weight.data.cpu().numpy()\n",
    "plt.imsave('images/m3_mid1.png', weights[0, 0])\n",
    "plt.imsave('images/m3_mid2.png', weights[1, 0])\n",
    "plt.figure().add_subplot(111).imshow(weights[0, 0])\n",
    "plt.figure().add_subplot(111).imshow(weights[1, 0])\n",
    "\n",
    "weights = model.conv12.weight.data.cpu().numpy()\n",
    "plt.imsave('images/m3_last1.png', weights[0, 0])\n",
    "plt.imsave('images/m3_last2.png', weights[1, 0])\n",
    "plt.figure().add_subplot(111).imshow(weights[0, 0])\n",
    "plt.figure().add_subplot(111).imshow(weights[1, 0])"
   ]
  },
  {
   "cell_type": "code",
   "execution_count": null,
   "metadata": {},
   "outputs": [],
   "source": [
    "# Loads the model\n",
    "model2 = torch.load('file_name')"
   ]
  },
  {
   "cell_type": "code",
   "execution_count": null,
   "metadata": {},
   "outputs": [],
   "source": []
  }
 ],
 "metadata": {
  "kernelspec": {
   "display_name": "Python 3",
   "language": "python",
   "name": "python3"
  },
  "language_info": {
   "codemirror_mode": {
    "name": "ipython",
    "version": 3
   },
   "file_extension": ".py",
   "mimetype": "text/x-python",
   "name": "python",
   "nbconvert_exporter": "python",
   "pygments_lexer": "ipython3",
   "version": "3.5.2"
  }
 },
 "nbformat": 4,
 "nbformat_minor": 2
}
